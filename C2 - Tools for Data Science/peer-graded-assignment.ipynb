{
 "cells": [
  {
   "cell_type": "markdown",
   "id": "ab0b9aa5-e480-4b42-8f3c-120f08ebc59f",
   "metadata": {},
   "source": [
    "# My Jupyter Notebook on IBM Watson Studio"
   ]
  },
  {
   "cell_type": "markdown",
   "id": "14dc5afc-e824-4f18-ae78-f9197b5f92b3",
   "metadata": {},
   "source": [
    "**Jeremy Haar**  \n",
    "I am a Sofware Engineer."
   ]
  },
  {
   "cell_type": "markdown",
   "id": "4d5780e9-f521-4d40-b4e3-98710681444a",
   "metadata": {},
   "source": [
    "*I am interested in data science because I really like to analyze real data to better understand the world. I also would like to be able to use predictive analatycs to offer personalized healthcare to patients for instance.*"
   ]
  },
  {
   "cell_type": "markdown",
   "id": "2875cea4-ab22-4d52-b767-70a709504147",
   "metadata": {},
   "source": [
    "### My code in the next cell prints out \"Hello World!\""
   ]
  },
  {
   "cell_type": "code",
   "execution_count": 1,
   "id": "09782483-4cce-4a8d-a46e-208472948d44",
   "metadata": {},
   "outputs": [
    {
     "name": "stdout",
     "output_type": "stream",
     "text": [
      "Hello World!\n"
     ]
    }
   ],
   "source": [
    "print('Hello World!')"
   ]
  },
  {
   "cell_type": "markdown",
   "id": "5b0717f0-4557-4c36-9d76-332193176008",
   "metadata": {},
   "source": [
    "This is a list with:\n",
    "- Item 1\n",
    "- Item 2\n",
    "- Item 3\n",
    "\n",
    "This is a~~n image~~ link to [Coursera](https://www.coursera.org/).\n",
    "\n",
    "\n",
    "This is a piece of code in Python:\n",
    "```python\n",
    "s = 'Hello World!'\n",
    "print s\n",
    "```"
   ]
  },
  {
   "cell_type": "code",
   "execution_count": null,
   "id": "870c1c8e-b129-4023-bfd9-8ca868d0085e",
   "metadata": {},
   "outputs": [],
   "source": []
  }
 ],
 "metadata": {
  "kernelspec": {
   "display_name": "Python",
   "language": "python",
   "name": "conda-env-python-py"
  },
  "language_info": {
   "codemirror_mode": {
    "name": "ipython",
    "version": 3
   },
   "file_extension": ".py",
   "mimetype": "text/x-python",
   "name": "python",
   "nbconvert_exporter": "python",
   "pygments_lexer": "ipython3",
   "version": "3.7.12"
  }
 },
 "nbformat": 4,
 "nbformat_minor": 5
}
